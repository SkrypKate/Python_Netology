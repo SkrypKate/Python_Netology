{
 "cells": [
  {
   "cell_type": "markdown",
   "metadata": {},
   "source": [
    "**Задание 1. Напишите функцию date_range, которая возвращает список дней между датами start_date и end_date. Даты должны вводиться в формате YYYY-MM-DD. Задание 2. Дополните функцию из первого задания проверкой на корректность дат. В случае неверного формата или если start_date > end_date должен возвращаться пустой список.**"
   ]
  },
  {
   "cell_type": "code",
   "execution_count": 10,
   "metadata": {},
   "outputs": [],
   "source": [
    "from datetime import datetime\n",
    "from datetime import timedelta\n",
    "\n",
    "def date_range(start_date, end_date):\n",
    "    start_date_format = datetime.strptime( start_date, '%Y-%m-%d')\n",
    "    end_date_format = datetime.strptime( end_date, '%Y-%m-%d')\n",
    "    current_date = start_date_format\n",
    "    list_of_days = []\n",
    "    if start_date_format < end_date_format:\n",
    "        while current_date < end_date_format - timedelta(days=1):\n",
    "            current_date += timedelta(days=1)\n",
    "            list_of_days.append(current_date.strftime('%Y-%m-%d'))\n",
    "        return list_of_days\n",
    "    else:\n",
    "        return 'check dates'"
   ]
  },
  {
   "cell_type": "code",
   "execution_count": 11,
   "metadata": {},
   "outputs": [
    {
     "name": "stdout",
     "output_type": "stream",
     "text": [
      "['2019-03-16', '2019-03-17', '2019-03-18', '2019-03-19', '2019-03-20', '2019-03-21']\n"
     ]
    }
   ],
   "source": [
    "start_date = '2019-03-15'\n",
    "end_date = '2019-03-22'\n",
    "print(date_range (start_date, end_date))"
   ]
  },
  {
   "cell_type": "code",
   "execution_count": 12,
   "metadata": {},
   "outputs": [
    {
     "name": "stdout",
     "output_type": "stream",
     "text": [
      "check dates\n"
     ]
    }
   ],
   "source": [
    "start_date = '2019-03-15'\n",
    "end_date = '2019-02-22'\n",
    "print(date_range (start_date, end_date))"
   ]
  },
  {
   "cell_type": "markdown",
   "metadata": {},
   "source": [
    "**Задание 3. Дан поток дат в формате YYYY-MM-DD, в которых встречаются некорректные значения:\n",
    "stream = [‘2018-04-02’, ‘2018-02-29’, ‘2018-19-02’]\n",
    "Напишите функцию, которая проверяет эти даты на корректность. Т. е. для каждой даты возвращает True (дата корректна) или False (некорректная дата).**"
   ]
  },
  {
   "cell_type": "code",
   "execution_count": 15,
   "metadata": {},
   "outputs": [],
   "source": [
    "stream = ['2018-04-02', '2018-02-29', '2018-19-02']"
   ]
  },
  {
   "cell_type": "code",
   "execution_count": 16,
   "metadata": {},
   "outputs": [
    {
     "name": "stdout",
     "output_type": "stream",
     "text": [
      "{'2018-04-02': 'True', '2018-02-29': 'False', '2018-19-02': 'False'}\n"
     ]
    }
   ],
   "source": [
    "from datetime import datetime\n",
    "import traceback\n",
    "\n",
    "def stream_test(stream_tested):\n",
    "    current_date=[]\n",
    "    test={}\n",
    "    for i in stream_tested:\n",
    "        current_date=i\n",
    "        try:\n",
    "            test.update({datetime.strftime(datetime.strptime( current_date, '%Y-%m-%d'),'%Y-%m-%d'): 'True'})\n",
    "        except:\n",
    "            test.update({current_date:'False'})\n",
    "    return print(test)\n",
    "\n",
    "stream_test(stream)"
   ]
  }
 ],
 "metadata": {
  "kernelspec": {
   "display_name": "Python 3",
   "language": "python",
   "name": "python3"
  },
  "language_info": {
   "codemirror_mode": {
    "name": "ipython",
    "version": 3
   },
   "file_extension": ".py",
   "mimetype": "text/x-python",
   "name": "python",
   "nbconvert_exporter": "python",
   "pygments_lexer": "ipython3",
   "version": "3.7.1"
  }
 },
 "nbformat": 4,
 "nbformat_minor": 2
}
